{
 "cells": [
  {
   "cell_type": "markdown",
   "metadata": {},
   "source": [
    "# Analyzing data from the National Buoy System"
   ]
  },
  {
   "cell_type": "markdown",
   "metadata": {
    "collapsed": true
   },
   "source": [
    "## Background\n",
    "\n",
    "The National Data Buoys Data center publish oceanographic data from their buoys on their web. Bouys send up their measurements every hour and the data is published as a spreadsheet in the NOAA web site.\n",
    "\n",
    "We want to collect the data for any, or many, bouys, clean it up, and analyze it to make a plot.\n",
    "\n",
    "## Challenges\n",
    "\n",
    "- Get the data from the web and read it into our Python notebook.\n",
    "- Clean up the data, which sometimes has missing measurements.\n",
    "- Choose the bouys we want to analyze using their ID numbers.\n",
    "- Run our analysis (we will just make a plot).\n",
    "- Save our code as a script or module for reusing it later."
   ]
  },
  {
   "cell_type": "markdown",
   "metadata": {},
   "source": [
    "## References \n",
    "\n",
    "- National Data Buoy Center: http://www.ndbc.noaa.gov/\n",
    "- Data for Station 44255 - NE Burgeo Bank: http://www.ndbc.noaa.gov/station_realtime.php?station=44255\n",
    "- How a buoy get an ID: http://www.ndbc.noaa.gov/staid.shtml\n",
    "- All the station IDs: http://www.ndbc.noaa.gov/to_station.shtml"
   ]
  },
  {
   "cell_type": "code",
   "execution_count": 1,
   "metadata": {
    "collapsed": false
   },
   "outputs": [],
   "source": [
    "url = 'http://www.ndbc.noaa.gov/data/realtime2/44255.txt'"
   ]
  },
  {
   "cell_type": "code",
   "execution_count": 8,
   "metadata": {
    "collapsed": true
   },
   "outputs": [],
   "source": [
    "import requests"
   ]
  },
  {
   "cell_type": "code",
   "execution_count": 12,
   "metadata": {
    "collapsed": false
   },
   "outputs": [
    {
     "name": "stdout",
     "output_type": "stream",
     "text": [
      "#YY  MM DD hh mm WDIR WSPD GST  WVHT   DPD   APD MWD   PRES  ATMP  WTMP  DEWP  VIS PTDY  TIDE\n",
      "#yr  mo dy hr mn degT m/s  m/s     m   sec   sec degT   hPa  degC  degC  degC  nmi  hPa    ft\n",
      "2015 08 28 19 00 260  9.0 11.0   1.8     6    MM  MM 1010.2    MM  17.7    MM   MM +0.1    MM\n",
      "2015 08 28 18 00 260  8.0  9.0   1.7     5    MM  MM 1010.3    MM  17.7    MM   MM +0.2    MM\n",
      "2015 08 28 17 00 270  8.0 10.0   1.6     6    MM  MM 1010.3    MM  17.8    MM   MM +0.4    MM\n",
      "2015 08 28 16 00 270  9.0 11.0\n"
     ]
    }
   ],
   "source": [
    "response = requests.get(url)\n",
    "\n",
    "print response.text[:500]"
   ]
  },
  {
   "cell_type": "code",
   "execution_count": 14,
   "metadata": {
    "collapsed": false
   },
   "outputs": [
    {
     "data": {
      "text/plain": [
       "unicode"
      ]
     },
     "execution_count": 14,
     "metadata": {},
     "output_type": "execute_result"
    }
   ],
   "source": [
    "type(response.text)"
   ]
  },
  {
   "cell_type": "code",
   "execution_count": 29,
   "metadata": {
    "collapsed": true
   },
   "outputs": [],
   "source": [
    "import StringIO\n",
    "data_as_string = StringIO.StringIO(response.text)"
   ]
  },
  {
   "cell_type": "code",
   "execution_count": 30,
   "metadata": {
    "collapsed": false
   },
   "outputs": [
    {
     "name": "stdout",
     "output_type": "stream",
     "text": [
      "<StringIO.StringIO instance at 0xacbeec6c>\n"
     ]
    }
   ],
   "source": [
    "print data_as_string"
   ]
  },
  {
   "cell_type": "code",
   "execution_count": 31,
   "metadata": {
    "collapsed": true
   },
   "outputs": [],
   "source": [
    "import pandas as pd\n",
    "#shortcut"
   ]
  },
  {
   "cell_type": "code",
   "execution_count": 38,
   "metadata": {
    "collapsed": false
   },
   "outputs": [
    {
     "name": "stdout",
     "output_type": "stream",
     "text": [
      "            #YY_MM_DD_hh  WSPD    PRES\n",
      "0    2015-08-28 18:00:00     8  1010.3\n",
      "1    2015-08-28 17:00:00     8  1010.3\n",
      "2    2015-08-28 16:00:00     9  1010.1\n",
      "3    2015-08-28 15:00:00     7  1010.1\n",
      "4    2015-08-28 14:00:00     5  1009.9\n",
      "5    2015-08-28 13:00:00     7  1009.3\n",
      "6    2015-08-28 12:00:00     6  1009.1\n",
      "7    2015-08-28 11:00:00     5  1008.7\n",
      "8    2015-08-28 10:00:00     5  1008.8\n",
      "9    2015-08-28 09:00:00     7  1008.4\n",
      "10   2015-08-28 08:00:00     9  1008.3\n",
      "11   2015-08-28 07:00:00    11  1008.9\n",
      "12   2015-08-28 06:00:00     8  1010.2\n",
      "13   2015-08-28 05:00:00    10  1011.8\n",
      "14   2015-08-28 04:00:00     9  1013.8\n",
      "15   2015-08-28 03:00:00    10  1014.2\n",
      "16   2015-08-28 02:00:00    11  1014.5\n",
      "17   2015-08-28 01:00:00     8  1016.3\n",
      "18   2015-08-28 00:00:00     8  1016.9\n",
      "19   2015-08-27 23:00:00     7  1017.1\n",
      "20   2015-08-27 22:00:00     8  1017.0\n",
      "21   2015-08-27 21:00:00     7  1017.4\n",
      "22   2015-08-27 20:00:00     8  1017.9\n",
      "23   2015-08-27 19:00:00     6  1018.4\n",
      "24   2015-08-27 18:00:00     6  1019.2\n",
      "25   2015-08-27 17:00:00     6  1019.5\n",
      "26   2015-08-27 16:00:00     6  1020.0\n",
      "27   2015-08-27 15:00:00     6  1020.2\n",
      "28   2015-08-27 14:00:00     6  1020.9\n",
      "29   2015-08-27 13:00:00     6  1020.8\n",
      "...                  ...   ...     ...\n",
      "1062 2015-07-15 05:00:00     5  1011.5\n",
      "1063 2015-07-15 04:00:00     5  1012.1\n",
      "1064 2015-07-15 03:00:00     5  1012.9\n",
      "1065 2015-07-15 02:00:00     7  1013.5\n",
      "1066 2015-07-15 01:00:00     5  1013.5\n",
      "1067 2015-07-15 00:00:00     4  1013.6\n",
      "1068 2015-07-14 23:00:00     3  1013.9\n",
      "1069 2015-07-14 22:00:00     3  1014.1\n",
      "1070 2015-07-14 21:00:00     2  1014.7\n",
      "1071 2015-07-14 20:00:00     1  1015.1\n",
      "1072 2015-07-14 19:00:00     2  1015.2\n",
      "1073 2015-07-14 18:00:00     2  1015.4\n",
      "1074 2015-07-14 17:00:00     2  1015.4\n",
      "1075 2015-07-14 16:00:00     2  1015.6\n",
      "1076 2015-07-14 15:00:00     0  1015.3\n",
      "1077 2015-07-14 14:00:00     0  1015.5\n",
      "1078 2015-07-14 13:00:00     1  1015.6\n",
      "1079 2015-07-14 12:00:00     1  1014.9\n",
      "1080 2015-07-14 11:00:00     1  1014.9\n",
      "1081 2015-07-14 10:00:00     1  1014.3\n",
      "1082 2015-07-14 09:00:00     3  1014.1\n",
      "1083 2015-07-14 08:00:00     4  1014.1\n",
      "1084 2015-07-14 07:00:00     4  1013.8\n",
      "1085 2015-07-14 06:00:00     4  1013.7\n",
      "1086 2015-07-14 05:00:00     5  1013.5\n",
      "1087 2015-07-14 04:00:00     5  1013.4\n",
      "1088 2015-07-14 03:00:00     6  1013.0\n",
      "1089 2015-07-14 02:00:00     6  1012.6\n",
      "1090 2015-07-14 01:00:00     7  1012.4\n",
      "1091 2015-07-14 00:00:00     4  1012.1\n",
      "\n",
      "[1092 rows x 3 columns]\n"
     ]
    }
   ],
   "source": [
    "data = pd.read_csv(StringIO.StringIO(response.text), \n",
    "                   delim_whitespace=True, \n",
    "                   skiprows=[1,2], \n",
    "                   usecols=[0,1,2,3,6,12], \n",
    "                   parse_dates=[[0,1,2,3]])\n",
    "\n",
    "print data"
   ]
  },
  {
   "cell_type": "code",
   "execution_count": 48,
   "metadata": {
    "collapsed": true
   },
   "outputs": [],
   "source": [
    "from numpy import nan\n",
    "data = data.replace('MM',nan)       #replacing missing measurments with nan\n",
    "data = data.dropna(axis=0)          #finds a row with a nan, delete it\n",
    "data = data.convert_objects(convert_numeric=True)"
   ]
  },
  {
   "cell_type": "code",
   "execution_count": 49,
   "metadata": {
    "collapsed": false
   },
   "outputs": [
    {
     "data": {
      "text/plain": [
       "<matplotlib.axes._subplots.AxesSubplot at 0xab41c3ec>"
      ]
     },
     "execution_count": 49,
     "metadata": {},
     "output_type": "execute_result"
    },
    {
     "data": {
      "image/png": "[encoded data removed]",
      "text/plain": [
       "<matplotlib.figure.Figure at 0xab3488ec>"
      ]
     },
     "metadata": {},
     "output_type": "display_data"
    }
   ],
   "source": [
    "%matplotlib inline\n",
    "import matplotlib.pyplot as plt\n",
    "data.PRES.plot()                              #grab column from name of column\n",
    "data.WSPD.plot(secondary_y=True, style='g')   #plot second data set on graph"
   ]
  },
  {
   "cell_type": "code",
   "execution_count": null,
   "metadata": {
    "collapsed": true
   },
   "outputs": [],
   "source": []
  }
 ],
 "metadata": {
  "kernelspec": {
   "display_name": "Python 2",
   "language": "python",
   "name": "python2"
  },
  "language_info": {
   "codemirror_mode": {
    "name": "ipython",
    "version": 2
   },
   "file_extension": ".py",
   "mimetype": "text/x-python",
   "name": "python",
   "nbconvert_exporter": "python",
   "pygments_lexer": "ipython2",
   "version": "2.7.10"
  }
 },
 "nbformat": 4,
 "nbformat_minor": 0
}
