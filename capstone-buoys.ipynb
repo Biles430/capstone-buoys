{
 "cells": [
  {
   "cell_type": "markdown",
   "metadata": {},
   "source": [
    "# Analyzing data from the National Bouy System"
   ]
  },
  {
   "cell_type": "markdown",
   "metadata": {
    "collapsed": true
   },
   "source": [
    "## Background\n",
    "\n",
    "The National Data Buoys Data center publish oceanographic data from their buoys on their web. Bouys send up their measurements every hour and the data is published as a spreadsheet in the NOAA web site.\n",
    "\n",
    "We want to collect the data for any, or many, bouys, clean it up, and analyze it to make a plot.\n",
    "\n",
    "## Challenges\n",
    "\n",
    "- Get the data from the web and read it into our Python notebook.\n",
    "- Clean up the data, which sometimes has missing measurements.\n",
    "- Choose the bouys we want to analyze using their ID numbers.\n",
    "- Run our analysis (we will just make a plot).\n",
    "- Save our code as a script or module for reusing it later."
   ]
  },
  {
   "cell_type": "markdown",
   "metadata": {},
   "source": [
    "## References \n",
    "\n",
    "- National Data Buoy Center: http://www.ndbc.noaa.gov/\n",
    "- Data for Station 44255 - NE Burgeo Bank: http://www.ndbc.noaa.gov/station_realtime.php?station=44255\n",
    "- How a buoy get an ID: http://www.ndbc.noaa.gov/staid.shtml\n",
    "- All the station IDs: http://www.ndbc.noaa.gov/to_station.shtml"
   ]
  },
  {
   "cell_type": "code",
   "execution_count": 2,
   "metadata": {
    "collapsed": false
   },
   "outputs": [],
   "source": [
    "url = 'http://www.ndbc.noaa.gov/data/realtime2/44255.txt'"
   ]
  }
 ],
 "metadata": {
  "kernelspec": {
   "display_name": "Python 2",
   "language": "python",
   "name": "python2"
  },
  "language_info": {
   "codemirror_mode": {
    "name": "ipython",
    "version": 2
   },
   "file_extension": ".py",
   "mimetype": "text/x-python",
   "name": "python",
   "nbconvert_exporter": "python",
   "pygments_lexer": "ipython2",
   "version": "2.7.10"
  }
 },
 "nbformat": 4,
 "nbformat_minor": 0
}
